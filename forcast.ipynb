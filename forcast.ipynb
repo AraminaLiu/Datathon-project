{
 "cells": [
  {
   "cell_type": "code",
   "execution_count": null,
   "id": "c7e14c2d",
   "metadata": {},
   "outputs": [],
   "source": [
    "import statsmodels.api as sm\n",
    "from statsmodels.tsa.stattools import acf\n",
    "from scipy import signal\n",
    "\n",
    "\"\"\"\n",
    "Train - Test Split\n",
    "\"\"\"\n",
    "row = 72*3\n",
    "#df1 = df1[::-1]\n",
    "train = df1[:][:-row]\n",
    "test = df1[:][-row:]"
   ]
  },
  {
   "cell_type": "code",
   "execution_count": null,
   "id": "f8756932",
   "metadata": {},
   "outputs": [],
   "source": []
  }
 ],
 "metadata": {
  "kernelspec": {
   "display_name": "Python 3",
   "language": "python",
   "name": "python3"
  },
  "language_info": {
   "codemirror_mode": {
    "name": "ipython",
    "version": 3
   },
   "file_extension": ".py",
   "mimetype": "text/x-python",
   "name": "python",
   "nbconvert_exporter": "python",
   "pygments_lexer": "ipython3",
   "version": "3.8.8"
  }
 },
 "nbformat": 4,
 "nbformat_minor": 5
}
